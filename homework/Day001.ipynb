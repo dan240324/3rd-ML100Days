{
 "cells": [
  {
   "cell_type": "code",
   "execution_count": 10,
   "metadata": {},
   "outputs": [
    {
     "name": "stdout",
     "output_type": "stream",
     "text": [
      "The Mean square error is 214.851\n"
     ]
    }
   ],
   "source": [
    "import numpy as np\n",
    "import matplotlib.pyplot as plt\n",
    "a=3\n",
    "b=0.5\n",
    "xlin=np.linspace(0,100,101)\n",
    "y = (xlin + np.random.randn(101) * 5) * a + b\n",
    "yt=xlin*a+b\n",
    "def mean_square_error(y,yp):\n",
    "    mse=sum((y-yp)**2)/len(y)\n",
    "    return mse\n",
    "mse=mean_square_error(y,yt)\n",
    "print(\"The Mean square error is %.3f\" % (mse))\n"
   ]
  }
 ],
 "metadata": {
  "kernelspec": {
   "display_name": "Python 3",
   "language": "python",
   "name": "python3"
  },
  "language_info": {
   "codemirror_mode": {
    "name": "ipython",
    "version": 3
   },
   "file_extension": ".py",
   "mimetype": "text/x-python",
   "name": "python",
   "nbconvert_exporter": "python",
   "pygments_lexer": "ipython3",
   "version": "3.7.3"
  }
 },
 "nbformat": 4,
 "nbformat_minor": 2
}
